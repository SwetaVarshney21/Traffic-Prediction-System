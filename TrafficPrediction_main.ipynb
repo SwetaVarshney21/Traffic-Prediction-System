{
 "cells": [
  {
   "cell_type": "code",
   "execution_count": 65,
   "id": "32f6ac11",
   "metadata": {},
   "outputs": [],
   "source": [
    "from sklearn.metrics import f1_score,accuracy_score,auc,confusion_matrix\n",
    "import pandas as pd\n",
    "import numpy as np\n",
    "import matplotlib.pyplot as plt\n",
    "\n",
    "from sklearn.metrics import confusion_matrix\n",
    "import seaborn as sns"
   ]
  },
  {
   "cell_type": "code",
   "execution_count": 66,
   "id": "229be7f7",
   "metadata": {},
   "outputs": [],
   "source": [
    "dataset=pd.read_csv(\"Dataset.csv\")"
   ]
  },
  {
   "cell_type": "code",
   "execution_count": 67,
   "id": "a8b5e65b",
   "metadata": {},
   "outputs": [
    {
     "data": {
      "text/html": [
       "<div>\n",
       "<style scoped>\n",
       "    .dataframe tbody tr th:only-of-type {\n",
       "        vertical-align: middle;\n",
       "    }\n",
       "\n",
       "    .dataframe tbody tr th {\n",
       "        vertical-align: top;\n",
       "    }\n",
       "\n",
       "    .dataframe thead th {\n",
       "        text-align: right;\n",
       "    }\n",
       "</style>\n",
       "<table border=\"1\" class=\"dataframe\">\n",
       "  <thead>\n",
       "    <tr style=\"text-align: right;\">\n",
       "      <th></th>\n",
       "      <th>Day</th>\n",
       "      <th>Date</th>\n",
       "      <th>CodedDay</th>\n",
       "      <th>Zone</th>\n",
       "      <th>Weather</th>\n",
       "      <th>Temperature</th>\n",
       "      <th>Traffic</th>\n",
       "    </tr>\n",
       "  </thead>\n",
       "  <tbody>\n",
       "    <tr>\n",
       "      <th>0</th>\n",
       "      <td>Wednesday</td>\n",
       "      <td>01-06-18</td>\n",
       "      <td>3</td>\n",
       "      <td>2</td>\n",
       "      <td>35</td>\n",
       "      <td>17</td>\n",
       "      <td>2</td>\n",
       "    </tr>\n",
       "    <tr>\n",
       "      <th>1</th>\n",
       "      <td>Wednesday</td>\n",
       "      <td>01-06-18</td>\n",
       "      <td>3</td>\n",
       "      <td>3</td>\n",
       "      <td>36</td>\n",
       "      <td>16</td>\n",
       "      <td>3</td>\n",
       "    </tr>\n",
       "    <tr>\n",
       "      <th>2</th>\n",
       "      <td>Wednesday</td>\n",
       "      <td>01-06-18</td>\n",
       "      <td>3</td>\n",
       "      <td>4</td>\n",
       "      <td>27</td>\n",
       "      <td>25</td>\n",
       "      <td>5</td>\n",
       "    </tr>\n",
       "    <tr>\n",
       "      <th>3</th>\n",
       "      <td>Wednesday</td>\n",
       "      <td>01-06-18</td>\n",
       "      <td>3</td>\n",
       "      <td>5</td>\n",
       "      <td>23</td>\n",
       "      <td>23</td>\n",
       "      <td>3</td>\n",
       "    </tr>\n",
       "    <tr>\n",
       "      <th>4</th>\n",
       "      <td>Wednesday</td>\n",
       "      <td>01-06-18</td>\n",
       "      <td>3</td>\n",
       "      <td>6</td>\n",
       "      <td>18</td>\n",
       "      <td>42</td>\n",
       "      <td>2</td>\n",
       "    </tr>\n",
       "  </tbody>\n",
       "</table>\n",
       "</div>"
      ],
      "text/plain": [
       "         Day      Date  CodedDay  Zone  Weather  Temperature  Traffic\n",
       "0  Wednesday  01-06-18         3     2       35           17        2\n",
       "1  Wednesday  01-06-18         3     3       36           16        3\n",
       "2  Wednesday  01-06-18         3     4       27           25        5\n",
       "3  Wednesday  01-06-18         3     5       23           23        3\n",
       "4  Wednesday  01-06-18         3     6       18           42        2"
      ]
     },
     "execution_count": 67,
     "metadata": {},
     "output_type": "execute_result"
    }
   ],
   "source": [
    "dataset.head()"
   ]
  },
  {
   "cell_type": "code",
   "execution_count": 68,
   "id": "3fe60a3f",
   "metadata": {},
   "outputs": [],
   "source": [
    "from sklearn.preprocessing import LabelEncoder \n",
    "le = LabelEncoder() "
   ]
  },
  {
   "cell_type": "code",
   "execution_count": 69,
   "id": "9f59ece8",
   "metadata": {},
   "outputs": [],
   "source": [
    "dataset['Date']= le.fit_transform(dataset['Date'])"
   ]
  },
  {
   "cell_type": "code",
   "execution_count": 70,
   "id": "44de1b48",
   "metadata": {},
   "outputs": [
    {
     "data": {
      "text/html": [
       "<div>\n",
       "<style scoped>\n",
       "    .dataframe tbody tr th:only-of-type {\n",
       "        vertical-align: middle;\n",
       "    }\n",
       "\n",
       "    .dataframe tbody tr th {\n",
       "        vertical-align: top;\n",
       "    }\n",
       "\n",
       "    .dataframe thead th {\n",
       "        text-align: right;\n",
       "    }\n",
       "</style>\n",
       "<table border=\"1\" class=\"dataframe\">\n",
       "  <thead>\n",
       "    <tr style=\"text-align: right;\">\n",
       "      <th></th>\n",
       "      <th>Day</th>\n",
       "      <th>Date</th>\n",
       "      <th>CodedDay</th>\n",
       "      <th>Zone</th>\n",
       "      <th>Weather</th>\n",
       "      <th>Temperature</th>\n",
       "      <th>Traffic</th>\n",
       "    </tr>\n",
       "  </thead>\n",
       "  <tbody>\n",
       "    <tr>\n",
       "      <th>1429</th>\n",
       "      <td>Friday</td>\n",
       "      <td>9</td>\n",
       "      <td>5</td>\n",
       "      <td>135</td>\n",
       "      <td>18</td>\n",
       "      <td>25</td>\n",
       "      <td>4</td>\n",
       "    </tr>\n",
       "    <tr>\n",
       "      <th>1430</th>\n",
       "      <td>Friday</td>\n",
       "      <td>9</td>\n",
       "      <td>5</td>\n",
       "      <td>136</td>\n",
       "      <td>31</td>\n",
       "      <td>8</td>\n",
       "      <td>2</td>\n",
       "    </tr>\n",
       "    <tr>\n",
       "      <th>1431</th>\n",
       "      <td>Friday</td>\n",
       "      <td>9</td>\n",
       "      <td>5</td>\n",
       "      <td>137</td>\n",
       "      <td>13</td>\n",
       "      <td>11</td>\n",
       "      <td>4</td>\n",
       "    </tr>\n",
       "    <tr>\n",
       "      <th>1432</th>\n",
       "      <td>Friday</td>\n",
       "      <td>9</td>\n",
       "      <td>5</td>\n",
       "      <td>138</td>\n",
       "      <td>34</td>\n",
       "      <td>15</td>\n",
       "      <td>1</td>\n",
       "    </tr>\n",
       "    <tr>\n",
       "      <th>1433</th>\n",
       "      <td>Friday</td>\n",
       "      <td>9</td>\n",
       "      <td>5</td>\n",
       "      <td>139</td>\n",
       "      <td>5</td>\n",
       "      <td>43</td>\n",
       "      <td>4</td>\n",
       "    </tr>\n",
       "    <tr>\n",
       "      <th>1434</th>\n",
       "      <td>Friday</td>\n",
       "      <td>9</td>\n",
       "      <td>5</td>\n",
       "      <td>140</td>\n",
       "      <td>47</td>\n",
       "      <td>38</td>\n",
       "      <td>1</td>\n",
       "    </tr>\n",
       "    <tr>\n",
       "      <th>1435</th>\n",
       "      <td>Friday</td>\n",
       "      <td>9</td>\n",
       "      <td>5</td>\n",
       "      <td>141</td>\n",
       "      <td>15</td>\n",
       "      <td>8</td>\n",
       "      <td>4</td>\n",
       "    </tr>\n",
       "    <tr>\n",
       "      <th>1436</th>\n",
       "      <td>Friday</td>\n",
       "      <td>9</td>\n",
       "      <td>5</td>\n",
       "      <td>142</td>\n",
       "      <td>26</td>\n",
       "      <td>38</td>\n",
       "      <td>1</td>\n",
       "    </tr>\n",
       "    <tr>\n",
       "      <th>1437</th>\n",
       "      <td>Friday</td>\n",
       "      <td>9</td>\n",
       "      <td>5</td>\n",
       "      <td>143</td>\n",
       "      <td>16</td>\n",
       "      <td>34</td>\n",
       "      <td>3</td>\n",
       "    </tr>\n",
       "    <tr>\n",
       "      <th>1438</th>\n",
       "      <td>Friday</td>\n",
       "      <td>9</td>\n",
       "      <td>5</td>\n",
       "      <td>144</td>\n",
       "      <td>16</td>\n",
       "      <td>17</td>\n",
       "      <td>1</td>\n",
       "    </tr>\n",
       "  </tbody>\n",
       "</table>\n",
       "</div>"
      ],
      "text/plain": [
       "         Day  Date  CodedDay  Zone  Weather  Temperature  Traffic\n",
       "1429  Friday     9         5   135       18           25        4\n",
       "1430  Friday     9         5   136       31            8        2\n",
       "1431  Friday     9         5   137       13           11        4\n",
       "1432  Friday     9         5   138       34           15        1\n",
       "1433  Friday     9         5   139        5           43        4\n",
       "1434  Friday     9         5   140       47           38        1\n",
       "1435  Friday     9         5   141       15            8        4\n",
       "1436  Friday     9         5   142       26           38        1\n",
       "1437  Friday     9         5   143       16           34        3\n",
       "1438  Friday     9         5   144       16           17        1"
      ]
     },
     "execution_count": 70,
     "metadata": {},
     "output_type": "execute_result"
    }
   ],
   "source": [
    "dataset.tail(10)"
   ]
  },
  {
   "cell_type": "code",
   "execution_count": 71,
   "id": "09a3ff73",
   "metadata": {},
   "outputs": [
    {
     "name": "stdout",
     "output_type": "stream",
     "text": [
      "<class 'pandas.core.frame.DataFrame'>\n",
      "RangeIndex: 1439 entries, 0 to 1438\n",
      "Data columns (total 7 columns):\n",
      " #   Column       Non-Null Count  Dtype \n",
      "---  ------       --------------  ----- \n",
      " 0   Day          1439 non-null   object\n",
      " 1   Date         1439 non-null   int32 \n",
      " 2   CodedDay     1439 non-null   int64 \n",
      " 3   Zone         1439 non-null   int64 \n",
      " 4   Weather      1439 non-null   int64 \n",
      " 5   Temperature  1439 non-null   int64 \n",
      " 6   Traffic      1439 non-null   int64 \n",
      "dtypes: int32(1), int64(5), object(1)\n",
      "memory usage: 73.2+ KB\n"
     ]
    }
   ],
   "source": [
    "dataset.info()"
   ]
  },
  {
   "cell_type": "code",
   "execution_count": 72,
   "id": "6c1b3e49",
   "metadata": {},
   "outputs": [
    {
     "data": {
      "image/png": "[encoded data removed]",
      "text/plain": [
       "<Figure size 640x480 with 1 Axes>"
      ]
     },
     "metadata": {},
     "output_type": "display_data"
    }
   ],
   "source": [
    "\n",
    "fig = plt.figure()\n",
    "ax = fig.add_axes([0, 0, 1, 1])\n",
    "ax.hist(dataset['Traffic'], 20, color='yellow')\n",
    "plt.show()"
   ]
  },
  {
   "cell_type": "code",
   "execution_count": 73,
   "id": "01a4069b",
   "metadata": {},
   "outputs": [],
   "source": [
    "X = dataset.iloc[:, 2:6].values\n",
    "y = dataset.iloc[:, 6:7].values"
   ]
  },
  {
   "cell_type": "code",
   "execution_count": 74,
   "id": "cc8d752b",
   "metadata": {},
   "outputs": [],
   "source": [
    "from sklearn.model_selection import train_test_split\n",
    "X_train, X_test, y_train, y_test = train_test_split(X, y, test_size = 0.20, random_state = 0)"
   ]
  },
  {
   "cell_type": "code",
   "execution_count": 75,
   "id": "506ac9e6",
   "metadata": {},
   "outputs": [],
   "source": [
    "from sklearn.preprocessing import StandardScaler\n",
    "sc_X = StandardScaler()\n",
    "X_train = sc_X.fit_transform(X_train)\n",
    "X_test = sc_X.fit_transform(X_test)"
   ]
  },
  {
   "cell_type": "code",
   "execution_count": 76,
   "id": "b8e3ab32",
   "metadata": {},
   "outputs": [
    {
     "name": "stderr",
     "output_type": "stream",
     "text": [
      "C:\\Users\\91700\\AppData\\Local\\Temp\\ipykernel_18408\\1592691624.py:3: DataConversionWarning: A column-vector y was passed when a 1d array was expected. Please change the shape of y to (n_samples,), for example using ravel().\n",
      "  regressor.fit(X_train,y_train)\n"
     ]
    },
    {
     "data": {
      "text/plain": [
       "RandomForestRegressor(n_estimators=300, random_state=0)"
      ]
     },
     "execution_count": 76,
     "metadata": {},
     "output_type": "execute_result"
    }
   ],
   "source": [
    "from sklearn.ensemble import RandomForestRegressor\n",
    "regressor = RandomForestRegressor(n_estimators = 300, random_state = 0)\n",
    "regressor.fit(X_train,y_train)"
   ]
  },
  {
   "cell_type": "code",
   "execution_count": 77,
   "id": "9a742cc9",
   "metadata": {},
   "outputs": [],
   "source": [
    "y_pred = regressor.predict(X_test)"
   ]
  },
  {
   "cell_type": "code",
   "execution_count": 78,
   "id": "a64972bd",
   "metadata": {},
   "outputs": [
    {
     "data": {
      "text/plain": [
       "array([3., 3., 2., 3., 2., 2., 3., 2., 3., 2., 3., 3., 2., 2., 3., 2., 2.,\n",
       "       3., 3., 2., 3., 2., 3., 2., 2., 2., 2., 3., 2., 2., 2., 3., 3., 2.,\n",
       "       3., 2., 3., 4., 2., 3., 2., 3., 2., 3., 3., 3., 3., 2., 2., 3., 4.,\n",
       "       3., 3., 2., 3., 3., 3., 2., 2., 2., 3., 2., 2., 1., 3., 3., 3., 3.,\n",
       "       2., 3., 2., 3., 3., 3., 2., 3., 3., 2., 2., 3., 2., 2., 3., 2., 3.,\n",
       "       3., 3., 3., 3., 2., 3., 2., 2., 3., 2., 3., 2., 3., 3., 3., 2., 2.,\n",
       "       2., 2., 3., 2., 3., 2., 2., 3., 2., 3., 2., 2., 3., 3., 3., 2., 3.,\n",
       "       2., 3., 3., 2., 2., 3., 3., 2., 3., 4., 1., 2., 3., 3., 2., 3., 3.,\n",
       "       3., 3., 3., 3., 3., 3., 2., 3., 3., 2., 3., 3., 3., 2., 2., 2., 3.,\n",
       "       2., 3., 2., 3., 2., 3., 3., 2., 2., 3., 2., 2., 2., 3., 2., 2., 3.,\n",
       "       3., 3., 2., 3., 3., 2., 2., 2., 2., 2., 2., 3., 3., 3., 2., 3., 2.,\n",
       "       2., 2., 2., 1., 2., 3., 2., 3., 2., 2., 2., 2., 4., 3., 3., 2., 3.,\n",
       "       3., 3., 3., 3., 3., 3., 3., 1., 3., 3., 2., 3., 3., 3., 2., 3., 3.,\n",
       "       3., 2., 3., 3., 2., 2., 3., 2., 2., 2., 3., 3., 3., 2., 2., 3., 2.,\n",
       "       1., 2., 2., 3., 2., 3., 2., 3., 3., 2., 2., 2., 2., 2., 3., 2., 2.,\n",
       "       3., 2., 3., 3., 1., 2., 2., 3., 3., 3., 2., 2., 3., 3., 2., 3., 2.,\n",
       "       3., 2., 3., 2., 3., 2., 2., 4., 2., 3., 2., 2., 2., 3., 2., 3.])"
      ]
     },
     "execution_count": 78,
     "metadata": {},
     "output_type": "execute_result"
    }
   ],
   "source": [
    "\n",
    "if(y_pred.all()<2.5):\n",
    "    y_pred=np.round(y_pred-0.5)\n",
    "    \n",
    "else:\n",
    "    y_pred=np.round(y_pred+0.5)\n",
    "\n",
    "y_pred"
   ]
  },
  {
   "cell_type": "code",
   "execution_count": 79,
   "id": "3d5d44a4",
   "metadata": {},
   "outputs": [
    {
     "name": "stdout",
     "output_type": "stream",
     "text": [
      "[3 3 2 3 2 2 3 2 3 2 3 3 2 2 3 2 2 3 3 2 3 2 3 2 2 2 2 3 2 2 2 3 3 2 3 2 3\n",
      " 4 2 3 2 3 2 3 3 3 3 2 2 3 4 3 3 2 3 3 3 2 2 2 3 2 2 1 3 3 3 3 2 3 2 3 3 3\n",
      " 2 3 3 2 2 3 2 2 3 2 3 3 3 3 3 2 3 2 2 3 2 3 2 3 3 3 2 2 2 2 3 2 3 2 2 3 2\n",
      " 3 2 2 3 3 3 2 3 2 3 3 2 2 3 3 2 3 4 1 2 3 3 2 3 3 3 3 3 3 3 3 2 3 3 2 3 3\n",
      " 3 2 2 2 3 2 3 2 3 2 3 3 2 2 3 2 2 2 3 2 2 3 3 3 2 3 3 2 2 2 2 2 2 3 3 3 2\n",
      " 3 2 2 2 2 1 2 3 2 3 2 2 2 2 4 3 3 2 3 3 3 3 3 3 3 3 1 3 3 2 3 3 3 2 3 3 3\n",
      " 2 3 3 2 2 3 2 2 2 3 3 3 2 2 3 2 1 2 2 3 2 3 2 3 3 2 2 2 2 2 3 2 2 3 2 3 3\n",
      " 1 2 2 3 3 3 2 2 3 3 2 3 2 3 2 3 2 3 2 2 4 2 3 2 2 2 3 2 3]\n"
     ]
    }
   ],
   "source": [
    "y_pred= np.round(y_pred).astype(int)\n",
    "print(y_pred)"
   ]
  },
  {
   "cell_type": "code",
   "execution_count": 80,
   "id": "e114e47a",
   "metadata": {},
   "outputs": [
    {
     "name": "stdout",
     "output_type": "stream",
     "text": [
      "[1 3 5 5 2 3 5 5 3 5 2 5 4 5 4 1 4 3 5 3 5 4 5 5 1 1 1 1 5 3 4 2 1 1 3 5 2\n",
      " 5 4 4 2 4 1 1 2 2 2 1 3 2 2 4 2 5 4 3 3 2 3 2 3 4 5 4 5 2 5 2 2 3 2 2 3 3\n",
      " 3 4 5 2 4 2 5 2 2 1 2 5 3 5 1 4 4 2 3 5 5 3 3 4 1 4 1 2 5 1 3 3 5 1 5 1 5\n",
      " 5 1 2 4 1 2 1 2 4 3 2 2 2 5 4 4 3 3 5 4 1 3 1 3 4 2 1 2 5 5 4 2 4 5 5 1 5\n",
      " 2 4 2 4 3 1 2 3 1 5 2 5 4 3 1 5 5 5 1 5 2 2 5 2 2 1 1 4 5 1 2 1 4 4 5 5 2\n",
      " 1 3 2 4 5 3 1 5 2 3 2 5 4 4 2 2 5 2 5 1 5 3 5 1 2 2 1 3 4 2 5 3 1 2 2 3 2\n",
      " 4 3 5 2 1 1 4 4 4 4 4 2 1 1 5 1 3 5 3 3 3 2 2 3 4 4 5 3 1 3 5 5 5 1 4 1 4\n",
      " 2 4 3 4 4 5 1 2 4 1 2 3 1 5 1 2 3 2 4 1 3 4 3 3 1 4 3 4 1]\n"
     ]
    }
   ],
   "source": [
    "y_test_flat = np.array(y_test).flatten()\n",
    "print(y_test_flat)"
   ]
  },
  {
   "cell_type": "code",
   "execution_count": 81,
   "id": "8a2250dc",
   "metadata": {},
   "outputs": [
    {
     "data": {
      "image/png": "[encoded data removed]",
      "text/plain": [
       "<Figure size 800x600 with 2 Axes>"
      ]
     },
     "metadata": {},
     "output_type": "display_data"
    }
   ],
   "source": [
    "cm = confusion_matrix(y_test_flat, y_pred)\n",
    "labels = ['1', '2', '3', '4', '5']\n",
    "\n",
    "# Plotting the confusion matrix\n",
    "plt.figure(figsize=(8, 6))\n",
    "sns.heatmap(cm, annot=True, fmt='d', cmap='Greens', xticklabels=labels, yticklabels=labels)\n",
    "plt.title(\"Confusion Matrix\")\n",
    "plt.xlabel(\"Predicted Labels\")\n",
    "plt.ylabel(\"True Labels\")\n",
    "plt.show()"
   ]
  },
  {
   "cell_type": "code",
   "execution_count": 82,
   "id": "48337693",
   "metadata": {},
   "outputs": [
    {
     "name": "stdout",
     "output_type": "stream",
     "text": [
      "Error =  13.42 %\n"
     ]
    }
   ],
   "source": [
    "df1=(y_pred-y_test)/y_test\n",
    "df1=round(df1.mean()*100,2)\n",
    "print(\"Error = \",df1,\"%\") "
   ]
  },
  {
   "cell_type": "code",
   "execution_count": 83,
   "id": "62ecb537",
   "metadata": {},
   "outputs": [
    {
     "name": "stdout",
     "output_type": "stream",
     "text": [
      "Accuracy=  86.58 %\n"
     ]
    }
   ],
   "source": [
    "a=100-df1\n",
    "print(\"Accuracy= \",a,\"%\")"
   ]
  },
  {
   "cell_type": "code",
   "execution_count": 84,
   "id": "278c631f",
   "metadata": {},
   "outputs": [
    {
     "name": "stdout",
     "output_type": "stream",
     "text": [
      "Error =  13.42 %\n",
      "Accuracy=  86.58 %\n"
     ]
    }
   ],
   "source": [
    "print(\"Error = \",df1,\"%\")\n",
    "print(\"Accuracy= \",a,\"%\")"
   ]
  },
  {
   "cell_type": "code",
   "execution_count": 85,
   "id": "9ea9cdd7",
   "metadata": {},
   "outputs": [
    {
     "name": "stderr",
     "output_type": "stream",
     "text": [
      "C:\\Users\\91700\\anaconda3\\lib\\site-packages\\sklearn\\utils\\validation.py:993: DataConversionWarning: A column-vector y was passed when a 1d array was expected. Please change the shape of y to (n_samples, ), for example using ravel().\n",
      "  y = column_or_1d(y, warn=True)\n"
     ]
    },
    {
     "data": {
      "text/plain": [
       "SVR()"
      ]
     },
     "execution_count": 85,
     "metadata": {},
     "output_type": "execute_result"
    }
   ],
   "source": [
    "from sklearn.svm import SVR\n",
    "regressor = SVR(kernel = 'rbf')\n",
    "regressor.fit(X_train,y_train)"
   ]
  },
  {
   "cell_type": "code",
   "execution_count": 86,
   "id": "2d18ca88",
   "metadata": {},
   "outputs": [
    {
     "data": {
      "text/plain": [
       "array([2.48568787, 3.83075078, 3.2936518 , 3.1673047 , 2.92523973,\n",
       "       2.31572795, 2.36996983, 2.19128844, 3.66497598, 2.56215864,\n",
       "       3.09770455, 3.37561416, 2.86955855, 2.70819912, 2.51284476,\n",
       "       2.60066084, 2.4309671 , 2.37138504, 3.18637153, 2.83358309,\n",
       "       3.60021418, 2.48652871, 3.03685709, 2.39762196, 2.497879  ,\n",
       "       3.11026378, 2.99161215, 3.69680818, 3.09097039, 2.62917555,\n",
       "       2.84167464, 3.26385761, 2.957667  , 3.15259094, 3.1129895 ,\n",
       "       2.65382723, 2.64573348, 4.17701652, 3.1214746 , 2.59892333,\n",
       "       2.54551056, 3.67757031, 2.76428867, 3.82274378, 3.06953225,\n",
       "       2.93527699, 2.77584091, 2.67888664, 2.3393692 , 3.94660356,\n",
       "       2.98060755, 3.72745618, 4.06289067, 3.18461613, 2.79760641,\n",
       "       3.16032156, 2.40107766, 3.05992469, 2.50326614, 3.14948545,\n",
       "       2.0258538 , 2.39031143, 2.5313014 , 2.06376862, 3.25822173,\n",
       "       3.8331732 , 2.91792523, 4.16926464, 2.99944268, 2.72893788,\n",
       "       2.7935679 , 3.48603414, 3.09625424, 3.2274822 , 3.1877698 ,\n",
       "       3.1412397 , 3.34430832, 2.67296499, 2.60448657, 3.05688571,\n",
       "       1.89781436, 2.80615316, 3.03905493, 3.21732211, 2.68923666,\n",
       "       2.68586496, 2.92857837, 3.68705538, 3.5105518 , 2.78635346,\n",
       "       3.16770217, 2.09719915, 3.14931621, 3.16040971, 2.34756506,\n",
       "       2.97929857, 2.58705337, 3.40824713, 3.39293322, 3.9374141 ,\n",
       "       2.37849792, 3.00871069, 2.72592051, 3.18156876, 2.13153741,\n",
       "       3.01812279, 3.11791498, 2.17607694, 3.1761826 , 2.8550817 ,\n",
       "       3.16434755, 3.1920135 , 2.83936959, 2.60467229, 3.84780699,\n",
       "       3.17861604, 2.99417862, 3.28979924, 2.95488478, 2.30669607,\n",
       "       2.95799886, 2.77125492, 3.52502281, 3.42332299, 3.06387125,\n",
       "       3.36793637, 3.18167001, 3.10368359, 3.64836723, 2.24413845,\n",
       "       2.85459664, 3.42208017, 3.15932066, 1.98435782, 4.06736121,\n",
       "       3.51295149, 3.32246528, 3.70481761, 3.87743913, 3.3851674 ,\n",
       "       2.7729928 , 3.05428736, 2.68014413, 3.71865779, 3.56637636,\n",
       "       3.10693693, 2.69362507, 2.90795588, 2.49206221, 2.38230613,\n",
       "       2.80610236, 2.2751092 , 3.35312855, 3.19958008, 2.85885598,\n",
       "       2.81472787, 2.97602789, 2.24323176, 3.53810023, 2.57869998,\n",
       "       2.54667703, 2.7750127 , 2.93120167, 2.02760259, 3.13390563,\n",
       "       3.0352923 , 2.46270591, 2.86611534, 3.01681107, 3.25683056,\n",
       "       3.33614346, 3.29854881, 3.0633859 , 3.03701775, 3.13264911,\n",
       "       3.27237022, 1.99578218, 2.96019533, 3.07517058, 2.75037391,\n",
       "       2.69742165, 3.05560167, 2.7811108 , 3.29256002, 3.09761597,\n",
       "       2.94515573, 3.67508548, 2.79910461, 2.68429918, 2.35135477,\n",
       "       1.78037451, 2.06058057, 2.78031096, 2.96887932, 2.45162779,\n",
       "       2.34716929, 2.60769396, 3.32031932, 2.83096498, 3.96318253,\n",
       "       1.95025452, 2.96047266, 2.60408857, 3.01211478, 2.76417688,\n",
       "       3.12770243, 2.8292839 , 3.48226775, 2.66415284, 3.60667452,\n",
       "       3.22824346, 1.98119445, 3.04303888, 2.61650804, 3.09453429,\n",
       "       3.77630571, 3.30109344, 3.12562853, 3.08593669, 3.42617757,\n",
       "       3.40788194, 3.81374563, 2.0364313 , 2.90612445, 2.9860682 ,\n",
       "       2.4440315 , 2.84854671, 3.02571857, 3.0058111 , 3.36237316,\n",
       "       2.92237107, 2.8212406 , 2.68600375, 3.06650889, 2.71026894,\n",
       "       2.48229778, 2.78905095, 3.05137147, 2.30409362, 3.14095599,\n",
       "       1.9830805 , 3.31410349, 2.8334792 , 3.41044366, 3.71151193,\n",
       "       2.94174763, 2.53802189, 3.32556579, 2.59622144, 2.7976202 ,\n",
       "       3.16463529, 2.89358632, 3.666639  , 2.59841178, 3.10452024,\n",
       "       3.96164453, 2.62040129, 3.54119895, 3.26069901, 2.27431143,\n",
       "       2.36339918, 2.48121324, 3.17323898, 2.35699081, 3.76301981,\n",
       "       3.24130716, 2.5939703 , 2.64012962, 3.26218151, 3.40286614,\n",
       "       3.51389568, 3.20716058, 3.20192922, 2.69489033, 3.37639684,\n",
       "       2.83542016, 3.69721289, 2.76678089, 3.25447156, 3.3156072 ,\n",
       "       2.82490969, 3.33686767, 3.06560594, 2.67029599, 2.39938476,\n",
       "       3.33374851, 3.31654043, 3.1761943 ])"
      ]
     },
     "execution_count": 86,
     "metadata": {},
     "output_type": "execute_result"
    }
   ],
   "source": [
    "y_pred = regressor.predict(X_test)\n",
    "y_pred"
   ]
  },
  {
   "cell_type": "code",
   "execution_count": 87,
   "id": "78a432cf",
   "metadata": {},
   "outputs": [
    {
     "data": {
      "text/plain": [
       "array([2., 3., 3., 3., 2., 2., 2., 2., 3., 2., 3., 3., 2., 2., 2., 2., 2.,\n",
       "       2., 3., 2., 3., 2., 3., 2., 2., 3., 2., 3., 3., 2., 2., 3., 2., 3.,\n",
       "       3., 2., 2., 4., 3., 2., 2., 3., 2., 3., 3., 2., 2., 2., 2., 3., 2.,\n",
       "       3., 4., 3., 2., 3., 2., 3., 2., 3., 2., 2., 2., 2., 3., 3., 2., 4.,\n",
       "       2., 2., 2., 3., 3., 3., 3., 3., 3., 2., 2., 3., 1., 2., 3., 3., 2.,\n",
       "       2., 2., 3., 3., 2., 3., 2., 3., 3., 2., 2., 2., 3., 3., 3., 2., 3.,\n",
       "       2., 3., 2., 3., 3., 2., 3., 2., 3., 3., 2., 2., 3., 3., 2., 3., 2.,\n",
       "       2., 2., 2., 3., 3., 3., 3., 3., 3., 3., 2., 2., 3., 3., 1., 4., 3.,\n",
       "       3., 3., 3., 3., 2., 3., 2., 3., 3., 3., 2., 2., 2., 2., 2., 2., 3.,\n",
       "       3., 2., 2., 2., 2., 3., 2., 2., 2., 2., 2., 3., 3., 2., 2., 3., 3.,\n",
       "       3., 3., 3., 3., 3., 3., 1., 2., 3., 2., 2., 3., 2., 3., 3., 2., 3.,\n",
       "       2., 2., 2., 1., 2., 2., 2., 2., 2., 2., 3., 2., 3., 1., 2., 2., 3.,\n",
       "       2., 3., 2., 3., 2., 3., 3., 1., 3., 2., 3., 3., 3., 3., 3., 3., 3.,\n",
       "       3., 2., 2., 2., 2., 2., 3., 3., 3., 2., 2., 2., 3., 2., 2., 2., 3.,\n",
       "       2., 3., 1., 3., 2., 3., 3., 2., 2., 3., 2., 2., 3., 2., 3., 2., 3.,\n",
       "       3., 2., 3., 3., 2., 2., 2., 3., 2., 3., 3., 2., 2., 3., 3., 3., 3.,\n",
       "       3., 2., 3., 2., 3., 2., 3., 3., 2., 3., 3., 2., 2., 3., 3., 3.])"
      ]
     },
     "execution_count": 87,
     "metadata": {},
     "output_type": "execute_result"
    }
   ],
   "source": [
    "\n",
    "if(y_pred.all()<2.5):\n",
    "    y_pred=np.round(y_pred-0.5)\n",
    "    \n",
    "else:\n",
    "    y_pred=np.round(y_pred+0.5)\n",
    "\n",
    "y_pred"
   ]
  },
  {
   "cell_type": "code",
   "execution_count": 88,
   "id": "17ead643",
   "metadata": {},
   "outputs": [
    {
     "data": {
      "image/png": "[encoded data removed]",
      "text/plain": [
       "<Figure size 800x600 with 2 Axes>"
      ]
     },
     "metadata": {},
     "output_type": "display_data"
    }
   ],
   "source": [
    "cm = confusion_matrix(y_test_flat, y_pred)\n",
    "labels = ['1', '2', '3', '4', '5']\n",
    "\n",
    "# Plotting the confusion matrix\n",
    "plt.figure(figsize=(8, 6))\n",
    "sns.heatmap(cm, annot=True, fmt='d', cmap='Purples', xticklabels=labels, yticklabels=labels)\n",
    "plt.title(\"Confusion Matrix\")\n",
    "plt.xlabel(\"Predicted Labels\")\n",
    "plt.ylabel(\"True Labels\")\n",
    "plt.show()"
   ]
  },
  {
   "cell_type": "code",
   "execution_count": 89,
   "id": "562c3b7b",
   "metadata": {},
   "outputs": [
    {
     "name": "stdout",
     "output_type": "stream",
     "text": [
      "Error =  12.16 %\n"
     ]
    }
   ],
   "source": [
    "df1=(y_pred-y_test)/y_test\n",
    "df1=round(df1.mean()*100,2)\n",
    "print(\"Error = \",df1,\"%\") "
   ]
  },
  {
   "cell_type": "code",
   "execution_count": 90,
   "id": "f8644b3d",
   "metadata": {},
   "outputs": [
    {
     "name": "stdout",
     "output_type": "stream",
     "text": [
      "Accuracy=  87.84 %\n"
     ]
    }
   ],
   "source": [
    "a=100-df1\n",
    "print(\"Accuracy= \",a,\"%\")"
   ]
  },
  {
   "cell_type": "code",
   "execution_count": 91,
   "id": "32acc6fa",
   "metadata": {},
   "outputs": [
    {
     "name": "stdout",
     "output_type": "stream",
     "text": [
      "Classification Report:\n",
      "              precision    recall  f1-score   support\n",
      "\n",
      "           1       0.29      0.04      0.07        54\n",
      "           2       0.20      0.42      0.27        65\n",
      "           3       0.17      0.44      0.24        52\n",
      "           4       0.00      0.00      0.00        54\n",
      "           5       1.00      0.00      0.00        63\n",
      "\n",
      "    accuracy                           0.18       288\n",
      "   macro avg       0.33      0.18      0.11       288\n",
      "weighted avg       0.35      0.18      0.12       288\n",
      "\n"
     ]
    }
   ],
   "source": [
    "from sklearn.datasets import make_classification\n",
    "from sklearn.metrics import classification_report\n",
    "\n",
    "# Assuming y_test and y_pred are already defined\n",
    "report = classification_report(y_test, y_pred, zero_division=1)\n",
    "print(\"Classification Report:\")\n",
    "print(report)\n"
   ]
  },
  {
   "cell_type": "code",
   "execution_count": null,
   "id": "9091003e",
   "metadata": {},
   "outputs": [],
   "source": []
  }
 ],
 "metadata": {
  "kernelspec": {
   "display_name": "Python 3 (ipykernel)",
   "language": "python",
   "name": "python3"
  },
  "language_info": {
   "codemirror_mode": {
    "name": "ipython",
    "version": 3
   },
   "file_extension": ".py",
   "mimetype": "text/x-python",
   "name": "python",
   "nbconvert_exporter": "python",
   "pygments_lexer": "ipython3",
   "version": "3.9.13"
  }
 },
 "nbformat": 4,
 "nbformat_minor": 5
}
